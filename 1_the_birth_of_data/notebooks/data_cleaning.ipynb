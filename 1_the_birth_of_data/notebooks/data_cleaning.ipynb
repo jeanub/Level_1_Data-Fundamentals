{
 "cells": [
  {
   "cell_type": "markdown",
   "id": "intro-objetivos",
   "metadata": {},
   "source": [
    "# Limpieza de datos – Ventas\n",
    "\n",
    "Objetivos del notebook:\n",
    "- Dataset sin duplicados ni nulos.\n",
    "- Columnas estandarizadas y consistentes (snake_case).\n",
    "- Código claro y comentado.\n",
    "- Observaciones finales con métricas de limpieza."
   ]
  },
  {
   "cell_type": "code",
   "execution_count": 6,
   "id": "imports-rutas",
   "metadata": {},
   "outputs": [],
   "source": [
    "# Importaciones y rutas\n",
    "import pandas as pd\n",
    "import unicodedata as ud\n",
    "from pathlib import Path\n",
    "\n",
    "DATA_PATH = Path('..') / 'data' / 'sales_data_sample.csv'\n",
    "OUTPUT_PATH = Path('..') / 'output' / 'sales_data_clean.csv'"
   ]
  },
  {
   "cell_type": "markdown",
   "id": "carga-exploracion",
   "metadata": {},
   "source": [
    "## 1. Carga y exploración inicial"
   ]
  },
  {
   "cell_type": "code",
   "execution_count": 7,
   "id": "carga-datos",
   "metadata": {},
   "outputs": [
    {
     "name": "stdout",
     "output_type": "stream",
     "text": [
      "Filas crudas: 2823 | Columnas crudas: 25\n"
     ]
    },
    {
     "data": {
      "text/html": [
       "<div>\n",
       "<style scoped>\n",
       "    .dataframe tbody tr th:only-of-type {\n",
       "        vertical-align: middle;\n",
       "    }\n",
       "\n",
       "    .dataframe tbody tr th {\n",
       "        vertical-align: top;\n",
       "    }\n",
       "\n",
       "    .dataframe thead th {\n",
       "        text-align: right;\n",
       "    }\n",
       "</style>\n",
       "<table border=\"1\" class=\"dataframe\">\n",
       "  <thead>\n",
       "    <tr style=\"text-align: right;\">\n",
       "      <th></th>\n",
       "      <th>ORDERNUMBER</th>\n",
       "      <th>QUANTITYORDERED</th>\n",
       "      <th>PRICEEACH</th>\n",
       "      <th>ORDERLINENUMBER</th>\n",
       "      <th>SALES</th>\n",
       "      <th>ORDERDATE</th>\n",
       "      <th>STATUS</th>\n",
       "      <th>QTR_ID</th>\n",
       "      <th>MONTH_ID</th>\n",
       "      <th>YEAR_ID</th>\n",
       "      <th>...</th>\n",
       "      <th>ADDRESSLINE1</th>\n",
       "      <th>ADDRESSLINE2</th>\n",
       "      <th>CITY</th>\n",
       "      <th>STATE</th>\n",
       "      <th>POSTALCODE</th>\n",
       "      <th>COUNTRY</th>\n",
       "      <th>TERRITORY</th>\n",
       "      <th>CONTACTLASTNAME</th>\n",
       "      <th>CONTACTFIRSTNAME</th>\n",
       "      <th>DEALSIZE</th>\n",
       "    </tr>\n",
       "  </thead>\n",
       "  <tbody>\n",
       "    <tr>\n",
       "      <th>0</th>\n",
       "      <td>10107</td>\n",
       "      <td>30</td>\n",
       "      <td>95.70</td>\n",
       "      <td>2</td>\n",
       "      <td>2871.00</td>\n",
       "      <td>2/24/2003 0:00</td>\n",
       "      <td>Shipped</td>\n",
       "      <td>1</td>\n",
       "      <td>2</td>\n",
       "      <td>2003</td>\n",
       "      <td>...</td>\n",
       "      <td>897 Long Airport Avenue</td>\n",
       "      <td>NaN</td>\n",
       "      <td>NYC</td>\n",
       "      <td>NY</td>\n",
       "      <td>10022</td>\n",
       "      <td>USA</td>\n",
       "      <td>NaN</td>\n",
       "      <td>Yu</td>\n",
       "      <td>Kwai</td>\n",
       "      <td>Small</td>\n",
       "    </tr>\n",
       "    <tr>\n",
       "      <th>1</th>\n",
       "      <td>10121</td>\n",
       "      <td>34</td>\n",
       "      <td>81.35</td>\n",
       "      <td>5</td>\n",
       "      <td>2765.90</td>\n",
       "      <td>5/7/2003 0:00</td>\n",
       "      <td>Shipped</td>\n",
       "      <td>2</td>\n",
       "      <td>5</td>\n",
       "      <td>2003</td>\n",
       "      <td>...</td>\n",
       "      <td>59 rue de l'Abbaye</td>\n",
       "      <td>NaN</td>\n",
       "      <td>Reims</td>\n",
       "      <td>NaN</td>\n",
       "      <td>51100</td>\n",
       "      <td>France</td>\n",
       "      <td>EMEA</td>\n",
       "      <td>Henriot</td>\n",
       "      <td>Paul</td>\n",
       "      <td>Small</td>\n",
       "    </tr>\n",
       "    <tr>\n",
       "      <th>2</th>\n",
       "      <td>10134</td>\n",
       "      <td>41</td>\n",
       "      <td>94.74</td>\n",
       "      <td>2</td>\n",
       "      <td>3884.34</td>\n",
       "      <td>7/1/2003 0:00</td>\n",
       "      <td>Shipped</td>\n",
       "      <td>3</td>\n",
       "      <td>7</td>\n",
       "      <td>2003</td>\n",
       "      <td>...</td>\n",
       "      <td>27 rue du Colonel Pierre Avia</td>\n",
       "      <td>NaN</td>\n",
       "      <td>Paris</td>\n",
       "      <td>NaN</td>\n",
       "      <td>75508</td>\n",
       "      <td>France</td>\n",
       "      <td>EMEA</td>\n",
       "      <td>Da Cunha</td>\n",
       "      <td>Daniel</td>\n",
       "      <td>Medium</td>\n",
       "    </tr>\n",
       "    <tr>\n",
       "      <th>3</th>\n",
       "      <td>10145</td>\n",
       "      <td>45</td>\n",
       "      <td>83.26</td>\n",
       "      <td>6</td>\n",
       "      <td>3746.70</td>\n",
       "      <td>8/25/2003 0:00</td>\n",
       "      <td>Shipped</td>\n",
       "      <td>3</td>\n",
       "      <td>8</td>\n",
       "      <td>2003</td>\n",
       "      <td>...</td>\n",
       "      <td>78934 Hillside Dr.</td>\n",
       "      <td>NaN</td>\n",
       "      <td>Pasadena</td>\n",
       "      <td>CA</td>\n",
       "      <td>90003</td>\n",
       "      <td>USA</td>\n",
       "      <td>NaN</td>\n",
       "      <td>Young</td>\n",
       "      <td>Julie</td>\n",
       "      <td>Medium</td>\n",
       "    </tr>\n",
       "    <tr>\n",
       "      <th>4</th>\n",
       "      <td>10159</td>\n",
       "      <td>49</td>\n",
       "      <td>100.00</td>\n",
       "      <td>14</td>\n",
       "      <td>5205.27</td>\n",
       "      <td>10/10/2003 0:00</td>\n",
       "      <td>Shipped</td>\n",
       "      <td>4</td>\n",
       "      <td>10</td>\n",
       "      <td>2003</td>\n",
       "      <td>...</td>\n",
       "      <td>7734 Strong St.</td>\n",
       "      <td>NaN</td>\n",
       "      <td>San Francisco</td>\n",
       "      <td>CA</td>\n",
       "      <td>NaN</td>\n",
       "      <td>USA</td>\n",
       "      <td>NaN</td>\n",
       "      <td>Brown</td>\n",
       "      <td>Julie</td>\n",
       "      <td>Medium</td>\n",
       "    </tr>\n",
       "  </tbody>\n",
       "</table>\n",
       "<p>5 rows × 25 columns</p>\n",
       "</div>"
      ],
      "text/plain": [
       "   ORDERNUMBER  QUANTITYORDERED  PRICEEACH  ORDERLINENUMBER    SALES  \\\n",
       "0        10107               30      95.70                2  2871.00   \n",
       "1        10121               34      81.35                5  2765.90   \n",
       "2        10134               41      94.74                2  3884.34   \n",
       "3        10145               45      83.26                6  3746.70   \n",
       "4        10159               49     100.00               14  5205.27   \n",
       "\n",
       "         ORDERDATE   STATUS  QTR_ID  MONTH_ID  YEAR_ID  ...  \\\n",
       "0   2/24/2003 0:00  Shipped       1         2     2003  ...   \n",
       "1    5/7/2003 0:00  Shipped       2         5     2003  ...   \n",
       "2    7/1/2003 0:00  Shipped       3         7     2003  ...   \n",
       "3   8/25/2003 0:00  Shipped       3         8     2003  ...   \n",
       "4  10/10/2003 0:00  Shipped       4        10     2003  ...   \n",
       "\n",
       "                    ADDRESSLINE1  ADDRESSLINE2           CITY STATE  \\\n",
       "0        897 Long Airport Avenue           NaN            NYC    NY   \n",
       "1             59 rue de l'Abbaye           NaN          Reims   NaN   \n",
       "2  27 rue du Colonel Pierre Avia           NaN          Paris   NaN   \n",
       "3             78934 Hillside Dr.           NaN       Pasadena    CA   \n",
       "4                7734 Strong St.           NaN  San Francisco    CA   \n",
       "\n",
       "  POSTALCODE COUNTRY TERRITORY CONTACTLASTNAME CONTACTFIRSTNAME DEALSIZE  \n",
       "0      10022     USA       NaN              Yu             Kwai    Small  \n",
       "1      51100  France      EMEA         Henriot             Paul    Small  \n",
       "2      75508  France      EMEA        Da Cunha           Daniel   Medium  \n",
       "3      90003     USA       NaN           Young            Julie   Medium  \n",
       "4        NaN     USA       NaN           Brown            Julie   Medium  \n",
       "\n",
       "[5 rows x 25 columns]"
      ]
     },
     "execution_count": 7,
     "metadata": {},
     "output_type": "execute_result"
    }
   ],
   "source": [
    "# Cargar datos crudos\n",
    "df = pd.read_csv(DATA_PATH, encoding='latin1')\n",
    "rows_raw, cols_raw = df.shape\n",
    "print(f'Filas crudas: {rows_raw} | Columnas crudas: {cols_raw}')\n",
    "df.head()"
   ]
  },
  {
   "cell_type": "code",
   "execution_count": 8,
   "id": "exploracion-nulos",
   "metadata": {},
   "outputs": [
    {
     "name": "stdout",
     "output_type": "stream",
     "text": [
      "Info:\n",
      "<class 'pandas.core.frame.DataFrame'>\n",
      "RangeIndex: 2823 entries, 0 to 2822\n",
      "Data columns (total 25 columns):\n",
      " #   Column            Non-Null Count  Dtype  \n",
      "---  ------            --------------  -----  \n",
      " 0   ORDERNUMBER       2823 non-null   int64  \n",
      " 1   QUANTITYORDERED   2823 non-null   int64  \n",
      " 2   PRICEEACH         2823 non-null   float64\n",
      " 3   ORDERLINENUMBER   2823 non-null   int64  \n",
      " 4   SALES             2823 non-null   float64\n",
      " 5   ORDERDATE         2823 non-null   object \n",
      " 6   STATUS            2823 non-null   object \n",
      " 7   QTR_ID            2823 non-null   int64  \n",
      " 8   MONTH_ID          2823 non-null   int64  \n",
      " 9   YEAR_ID           2823 non-null   int64  \n",
      " 10  PRODUCTLINE       2823 non-null   object \n",
      " 11  MSRP              2823 non-null   int64  \n",
      " 12  PRODUCTCODE       2823 non-null   object \n",
      " 13  CUSTOMERNAME      2823 non-null   object \n",
      " 14  PHONE             2823 non-null   object \n",
      " 15  ADDRESSLINE1      2823 non-null   object \n",
      " 16  ADDRESSLINE2      302 non-null    object \n",
      " 17  CITY              2823 non-null   object \n",
      " 18  STATE             1337 non-null   object \n",
      " 19  POSTALCODE        2747 non-null   object \n",
      " 20  COUNTRY           2823 non-null   object \n",
      " 21  TERRITORY         1749 non-null   object \n",
      " 22  CONTACTLASTNAME   2823 non-null   object \n",
      " 23  CONTACTFIRSTNAME  2823 non-null   object \n",
      " 24  DEALSIZE          2823 non-null   object \n",
      "dtypes: float64(2), int64(7), object(16)\n",
      "memory usage: 551.5+ KB\n",
      "Nulos por columna:\n"
     ]
    },
    {
     "data": {
      "text/plain": [
       "ADDRESSLINE2        2521\n",
       "STATE               1486\n",
       "TERRITORY           1074\n",
       "POSTALCODE            76\n",
       "SALES                  0\n",
       "QUANTITYORDERED        0\n",
       "PRICEEACH              0\n",
       "ORDERLINENUMBER        0\n",
       "ORDERNUMBER            0\n",
       "MONTH_ID               0\n",
       "QTR_ID                 0\n",
       "STATUS                 0\n",
       "ORDERDATE              0\n",
       "PRODUCTCODE            0\n",
       "YEAR_ID                0\n",
       "MSRP                   0\n",
       "PRODUCTLINE            0\n",
       "ADDRESSLINE1           0\n",
       "PHONE                  0\n",
       "CUSTOMERNAME           0\n",
       "CITY                   0\n",
       "COUNTRY                0\n",
       "CONTACTLASTNAME        0\n",
       "CONTACTFIRSTNAME       0\n",
       "DEALSIZE               0\n",
       "dtype: int64"
      ]
     },
     "execution_count": 8,
     "metadata": {},
     "output_type": "execute_result"
    }
   ],
   "source": [
    "# Resumen de tipos y nulos por columna\n",
    "print('Info:')\n",
    "df.info()\n",
    "print('Nulos por columna:')\n",
    "nulls_before = df.isna().sum().sort_values(ascending=False)\n",
    "nulls_before"
   ]
  },
  {
   "cell_type": "markdown",
   "id": "plan-limpieza",
   "metadata": {},
   "source": [
    "## 2. Plan de limpieza\n",
    "- Estandarizar nombres de columnas (minúsculas, snake_case, sin tildes).\n",
    "- Eliminar duplicados.\n",
    "- Tipificar columnas clave (por ejemplo, fechas).\n",
    "- Imputar nulos en campos categóricos frecuentes (por ejemplo, 'state', 'territory') con 'Unknown'.\n",
    "- Imputar nulos en campos opcionales de texto con cadena vacía (por ejemplo, 'addressline2', 'postalcode')."
   ]
  },
  {
   "cell_type": "code",
   "execution_count": 9,
   "id": "estandarizar-columnas",
   "metadata": {},
   "outputs": [
    {
     "name": "stdout",
     "output_type": "stream",
     "text": [
      "Columnas estandarizadas:\n",
      "['ordernumber', 'quantityordered', 'priceeach', 'orderlinenumber', 'sales', 'orderdate', 'status', 'qtr_id', 'month_id', 'year_id', 'productline', 'msrp', 'productcode', 'customername', 'phone', 'addressline1', 'addressline2', 'city', 'state', 'postalcode', 'country', 'territory', 'contactlastname', 'contactfirstname', 'dealsize']\n"
     ]
    }
   ],
   "source": [
    "# Estandarizar nombres de columnas\n",
    "def normalize_col(name: str) -> str:\n",
    "    name = name.strip().lower()\n",
    "    # eliminar tildes/acentos\n",
    "    name = ud.normalize('NFKD', name).encode('ascii', 'ignore').decode('ascii')\n",
    "    # reemplazar espacios y guiones por '_' y quitar caracteres no alfanum/underscore\n",
    "    name = name.replace('-', ' ').replace('/', ' ')\n",
    "    name = '_'.join(name.split())\n",
    "    name = ''.join(ch for ch in name if ch.isalnum() or ch == '_')\n",
    "    return name\n",
    "\n",
    "df.columns = [normalize_col(c) for c in df.columns]\n",
    "print('Columnas estandarizadas:')\n",
    "print(df.columns.tolist())"
   ]
  },
  {
   "cell_type": "code",
   "execution_count": 10,
   "id": "tipos-basicos",
   "metadata": {},
   "outputs": [],
   "source": [
    "# Tipificar columnas clave (fechas, códigos)\n",
    "if 'orderdate' in df.columns:\n",
    "    # parseo a datetime sin forzar NaT\n",
    "    df['orderdate'] = pd.to_datetime(df['orderdate'])\n",
    "# asegurar que postalcode sea texto (preserva ceros a la izquierda)\n",
    "if 'postalcode' in df.columns:\n",
    "    df['postalcode'] = df['postalcode'].astype('string')\n",
    "# limpiar espacios en textos\n",
    "for c in df.select_dtypes(include=['object', 'string']).columns:\n",
    "    df[c] = df[c].astype('string').str.strip()"
   ]
  },
  {
   "cell_type": "code",
   "execution_count": 11,
   "id": "duplicados",
   "metadata": {},
   "outputs": [
    {
     "name": "stdout",
     "output_type": "stream",
     "text": [
      "Duplicados eliminados: 0\n"
     ]
    }
   ],
   "source": [
    "# Eliminar duplicados\n",
    "rows_before_dupes = len(df)\n",
    "df = df.drop_duplicates().reset_index(drop=True)\n",
    "dupes_removed = rows_before_dupes - len(df)\n",
    "print(f'Duplicados eliminados: {dupes_removed}')"
   ]
  },
  {
   "cell_type": "code",
   "execution_count": 12,
   "id": "imputacion-nulos",
   "metadata": {},
   "outputs": [
    {
     "name": "stdout",
     "output_type": "stream",
     "text": [
      "Nulos totales tras imputación: 0\n"
     ]
    }
   ],
   "source": [
    "# Imputación controlada de nulos para asegurar dataset sin nulos\n",
    "fill_map = {}\n",
    "for col in ['addressline2', 'postalcode']:\n",
    "    if col in df.columns:\n",
    "        fill_map[col] = ''\n",
    "for col in ['state', 'territory']:\n",
    "    if col in df.columns:\n",
    "        fill_map[col] = 'Unknown'\n",
    "# aplicar imputación específica\n",
    "if fill_map:\n",
    "    df = df.fillna(value=fill_map)\n",
    "# si quedaran nulos residuales: rellenar textos con '' y numéricos con 0\n",
    "obj_cols = df.select_dtypes(include=['object', 'string']).columns\n",
    "num_cols = df.select_dtypes(include=['number']).columns\n",
    "dt_cols = df.select_dtypes(include=['datetime']).columns\n",
    "df[obj_cols] = df[obj_cols].fillna('')\n",
    "df[num_cols] = df[num_cols].fillna(0)\n",
    "for c in dt_cols:\n",
    "    if df[c].isna().any():\n",
    "        # usar la moda de la fecha si existe, si no, epoca por defecto\n",
    "        mode_val = df[c].mode().iloc[0] if not df[c].mode().empty else pd.Timestamp('1970-01-01')\n",
    "        df[c] = df[c].fillna(mode_val)\n",
    "\n",
    "print('Nulos totales tras imputación:', int(df.isna().sum().sum()))"
   ]
  },
  {
   "cell_type": "code",
   "execution_count": 13,
   "id": "validacion-final",
   "metadata": {},
   "outputs": [
    {
     "name": "stdout",
     "output_type": "stream",
     "text": [
      "Nulos por columna (después):\n",
      "Series([], dtype: int64)\n",
      "OK: Dataset sin nulos.\n"
     ]
    }
   ],
   "source": [
    "# Validación: no nulos y columnas consistentes\n",
    "nulls_after = df.isna().sum()\n",
    "print('Nulos por columna (después):')\n",
    "print(nulls_after[nulls_after > 0])\n",
    "assert df.isna().sum().sum() == 0, 'Aún quedan valores nulos'\n",
    "print('OK: Dataset sin nulos.')"
   ]
  },
  {
   "cell_type": "markdown",
   "id": "observaciones",
   "metadata": {},
   "source": [
    "## 3. Observaciones\n",
    "- Se estandarizaron nombres de columnas a `snake_case` sin tildes.\n",
    "- Se eliminaron filas duplicadas.\n",
    "- `orderdate` se parseó a tipo fecha.\n",
    "- Se imputaron nulos:\n",
    "  - Categóricos como `state` y `territory` con 'Unknown'.\n",
    "  - Textos opcionales como `addressline2` y `postalcode` con cadena vacía.\n",
    "- Se validó que no queden nulos en el dataset."
   ]
  },
  {
   "cell_type": "code",
   "execution_count": 15,
   "id": "resumen-metricas",
   "metadata": {},
   "outputs": [
    {
     "name": "stdout",
     "output_type": "stream",
     "text": [
      "Filas finales: 2823 | Columnas finales: 25\n",
      "Duplicados eliminados: 0\n",
      "Top columnas con nulos (antes):\n",
      "ADDRESSLINE2       2521\n",
      "STATE              1486\n",
      "TERRITORY          1074\n",
      "POSTALCODE           76\n",
      "SALES                 0\n",
      "QUANTITYORDERED       0\n",
      "PRICEEACH             0\n",
      "ORDERLINENUMBER       0\n",
      "ORDERNUMBER           0\n",
      "MONTH_ID              0\n",
      "dtype: int64\n",
      "Comprobación final de nulos totales: 0\n"
     ]
    }
   ],
   "source": [
    "# Métricas de limpieza\n",
    "rows_clean, cols_clean = df.shape\n",
    "print(f'Filas finales: {rows_clean} | Columnas finales: {cols_clean}')\n",
    "print(f'Duplicados eliminados: {dupes_removed}')\n",
    "print('Top columnas con nulos (antes):')\n",
    "print(nulls_before.head(10))\n",
    "print('Comprobación final de nulos totales:', int(df.isna().sum().sum()))"
   ]
  },
  {
   "cell_type": "code",
   "execution_count": 16,
   "id": "guardar-salida",
   "metadata": {},
   "outputs": [
    {
     "name": "stdout",
     "output_type": "stream",
     "text": [
      "Dataset limpio guardado en: ..\\output\\sales_data_clean.csv\n"
     ]
    }
   ],
   "source": [
    "# Exportar dataset limpio\n",
    "df.to_csv(OUTPUT_PATH, index=False)\n",
    "print(f'Dataset limpio guardado en: {OUTPUT_PATH}')"
   ]
  }
 ],
 "metadata": {
  "kernelspec": {
   "display_name": "venv",
   "language": "python",
   "name": "python3"
  },
  "language_info": {
   "codemirror_mode": {
    "name": "ipython",
    "version": 3
   },
   "file_extension": ".py",
   "mimetype": "text/x-python",
   "name": "python",
   "nbconvert_exporter": "python",
   "pygments_lexer": "ipython3",
   "version": "3.13.9"
  }
 },
 "nbformat": 4,
 "nbformat_minor": 5
}
