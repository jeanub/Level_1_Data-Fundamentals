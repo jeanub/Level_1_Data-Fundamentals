{
 "cells": [
  {
   "cell_type": "code",
   "execution_count": 7,
   "id": "8ad68f97",
   "metadata": {},
   "outputs": [],
   "source": [
    "import pandas as pd"
   ]
  },
  {
   "cell_type": "code",
   "execution_count": 9,
   "id": "640fac06",
   "metadata": {},
   "outputs": [],
   "source": [
    "# 1. Cargar el dataset\n",
    "df = pd.read_csv('../output/sales_data_clean.csv', parse_dates=['orderdate'])"
   ]
  },
  {
   "cell_type": "code",
   "execution_count": 10,
   "id": "b5f5b4b9",
   "metadata": {},
   "outputs": [],
   "source": [
    "# 2. Preparar columnas temporales\n",
    "df['Quarter'] = df['orderdate'].dt.to_period('Q')\n",
    "df['Year'] = df['orderdate'].dt.year\n",
    "df['Month'] = df['orderdate'].dt.month"
   ]
  },
  {
   "cell_type": "code",
   "execution_count": 11,
   "id": "8ce8c193",
   "metadata": {},
   "outputs": [],
   "source": [
    "# 3. Ventas totales por trimestre\n",
    "sales_by_quarter = (\n",
    "    df.groupby('Quarter')['sales']\n",
    "    .sum()\n",
    "    .reset_index()\n",
    "    .rename(columns={'sales': 'TotalSales'})\n",
    ")\n",
    "sales_by_quarter['Growth'] = sales_by_quarter['TotalSales'].pct_change()"
   ]
  },
  {
   "cell_type": "code",
   "execution_count": 12,
   "id": "f9f152dc",
   "metadata": {},
   "outputs": [],
   "source": [
    "# 4. Ventas por línea de producto por trimestre\n",
    "product_sales = (\n",
    "    df.groupby(['Quarter', 'productline'])['sales']\n",
    "    .sum()\n",
    "    .reset_index()\n",
    "    .rename(columns={'sales': 'ProductSales'})\n",
    ")"
   ]
  },
  {
   "cell_type": "code",
   "execution_count": 13,
   "id": "efd0b258",
   "metadata": {},
   "outputs": [],
   "source": [
    "# 5. Ventas por territorio y año\n",
    "region_sales = (\n",
    "    df.groupby(['territory', 'Year'])['sales']\n",
    "    .sum()\n",
    "    .unstack()\n",
    "    .fillna(0)\n",
    ")\n",
    "region_sales['Growth_%'] = region_sales.pct_change(axis=1)[region_sales.columns[-1]] * 100\n",
    "region_sales = region_sales.reset_index()"
   ]
  },
  {
   "cell_type": "code",
   "execution_count": 14,
   "id": "ba3655c3",
   "metadata": {},
   "outputs": [],
   "source": [
    "# 6. Ticket promedio por trimestre\n",
    "df['Ticket'] = df['sales'] / df['quantityordered']\n",
    "avg_ticket = (\n",
    "    df.groupby('Quarter')['Ticket']\n",
    "    .mean()\n",
    "    .reset_index()\n",
    "    .rename(columns={'Ticket': 'AvgTicket'})\n",
    ")"
   ]
  },
  {
   "cell_type": "code",
   "execution_count": 15,
   "id": "48910732",
   "metadata": {},
   "outputs": [],
   "source": [
    "# 7. Detectar trimestre con mayor crecimiento\n",
    "peak_quarter = sales_by_quarter.sort_values('Growth', ascending=False).iloc[0]"
   ]
  },
  {
   "cell_type": "code",
   "execution_count": 16,
   "id": "5b5500b9",
   "metadata": {},
   "outputs": [],
   "source": [
    "# 8. Línea de producto destacada en ese trimestre\n",
    "top_product = (\n",
    "    product_sales[product_sales['Quarter'] == peak_quarter['Quarter']]\n",
    "    .sort_values('ProductSales', ascending=False)\n",
    "    .iloc[0]\n",
    ")"
   ]
  },
  {
   "cell_type": "code",
   "execution_count": 17,
   "id": "88a4d514",
   "metadata": {},
   "outputs": [],
   "source": [
    "# 9. Región con mayor crecimiento interanual\n",
    "top_region = region_sales.sort_values('Growth_%', ascending=False).iloc[0]"
   ]
  },
  {
   "cell_type": "code",
   "execution_count": 19,
   "id": "22f10576",
   "metadata": {},
   "outputs": [
    {
     "name": "stdout",
     "output_type": "stream",
     "text": [
      "📘 Insight Resumen\n",
      "\n",
      "Durante el 2003Q4, las ventas totales alcanzaron los $1,860,005,\n",
      "lo que representa un crecimiento del 186.4% respecto al trimestre anterior.\n",
      "La categoría destacada fue *Classic Cars*, con un total de ventas de $829,663.\n",
      "La región de APAC lideró el crecimiento interanual con un +-57.2 %.\n",
      "Este comportamiento sugiere una respuesta positiva a las estrategias comerciales aplicadas durante el período.\n"
     ]
    }
   ],
   "source": [
    "# 10. Construir resumen narrativo\n",
    "print(\"📘 Insight Resumen\\n\")\n",
    "print(f\"Durante el {peak_quarter[ 'Quarter']}, las ventas totales alcanzaron los ${peak_quarter['TotalSales']:,.0f},\")\n",
    "print(f\"lo que representa un crecimiento del {peak_quarter['Growth']:.1%} respecto al trimestre anterior.\")\n",
    "print(f\"La categoría destacada fue *{top_product['productline']}*, con un total de ventas de ${top_product['ProductSales']:,.0f}.\")\n",
    "print(f\"La región de {top_region['territory']} lideró el crecimiento interanual con un +{top_region['Growth_%']:.1f} %.\")\n",
    "print(\"Este comportamiento sugiere una respuesta positiva a las estrategias comerciales aplicadas durante el período.\")"
   ]
  }
 ],
 "metadata": {
  "kernelspec": {
   "display_name": "venv",
   "language": "python",
   "name": "python3"
  },
  "language_info": {
   "codemirror_mode": {
    "name": "ipython",
    "version": 3
   },
   "file_extension": ".py",
   "mimetype": "text/x-python",
   "name": "python",
   "nbconvert_exporter": "python",
   "pygments_lexer": "ipython3",
   "version": "3.13.9"
  }
 },
 "nbformat": 4,
 "nbformat_minor": 5
}
